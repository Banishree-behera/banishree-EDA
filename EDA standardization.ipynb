{
 "cells": [
  {
   "cell_type": "code",
   "execution_count": 1,
   "id": "5d820009",
   "metadata": {},
   "outputs": [],
   "source": [
    "import pandas as pd\n",
    "import numpy as np\n",
    "import matplotlib.pyplot as plt\n",
    "import seaborn as sns"
   ]
  },
  {
   "cell_type": "code",
   "execution_count": 2,
   "id": "d0dc11fc",
   "metadata": {},
   "outputs": [],
   "source": [
    "path=r\"C:\\Users\\tanma\\DATASCIENCE\\string & list\\Visadataset.xlsx\"\n",
    "visa_df=pd.read_excel(path)"
   ]
  },
  {
   "cell_type": "code",
   "execution_count": null,
   "id": "fa84c9d9",
   "metadata": {},
   "outputs": [],
   "source": [
    "** standardization **\n",
    "- Standardization means scalling data into one scale\n",
    "\n",
    "-we have different columns has different units so that the value will very\n",
    "\n",
    "-one column has very hu\n",
    "\n",
    "-another column has very less values\n",
    "\n",
    "-we have 2 procedures\n",
    "\n",
    "-so it is important to \n",
    "   "
   ]
  },
  {
   "cell_type": "code",
   "execution_count": null,
   "id": "18d2e916",
   "metadata": {},
   "outputs": [],
   "source": [
    "**Normalization**\n",
    "\n",
    "-Min max Scalar\n",
    "\n",
    " x-xmin/xmax-xmin\n",
    "    \n",
    "    z score formula= x min/sigma"
   ]
  },
  {
   "cell_type": "code",
   "execution_count": null,
   "id": "d6db7433",
   "metadata": {},
   "outputs": [],
   "source": [
    "# take the prevailing_wage column\n",
    "#z-score=x-mean/sigma\n",
    "#step 2 : calculate mean of prevailing_wage\n",
    "#step 3:calculate std of prevailing_wage\n",
    "#step4 :nr :prevailing_wage-mean\n",
    "#step5 :pwage_zscore= nr/Dr"
   ]
  },
  {
   "cell_type": "code",
   "execution_count": 4,
   "id": "5d191c14",
   "metadata": {},
   "outputs": [
    {
     "data": {
      "text/plain": [
       "0           592.2029\n",
       "1         83425.6500\n",
       "2        122996.8600\n",
       "3         83434.0300\n",
       "4        149907.3900\n",
       "            ...     \n",
       "25475     77092.5700\n",
       "25476    279174.7900\n",
       "25477    146298.8500\n",
       "25478     86154.7700\n",
       "25479     70876.9100\n",
       "Name: prevailing_wage, Length: 25480, dtype: float64"
      ]
     },
     "execution_count": 4,
     "metadata": {},
     "output_type": "execute_result"
    }
   ],
   "source": [
    "visa_df['prevailing_wage']"
   ]
  },
  {
   "cell_type": "code",
   "execution_count": 6,
   "id": "095cfb44",
   "metadata": {},
   "outputs": [
    {
     "ename": "AttributeError",
     "evalue": "'Series' object has no attribute 'columns'",
     "output_type": "error",
     "traceback": [
      "\u001b[1;31m---------------------------------------------------------------------------\u001b[0m",
      "\u001b[1;31mAttributeError\u001b[0m                            Traceback (most recent call last)",
      "\u001b[1;32m~\\AppData\\Local\\Temp\\ipykernel_16584\\677194880.py\u001b[0m in \u001b[0;36m?\u001b[1;34m()\u001b[0m\n\u001b[1;32m----> 1\u001b[1;33m \u001b[0mvisa_df\u001b[0m\u001b[1;33m[\u001b[0m\u001b[1;34m'prevailing_wage'\u001b[0m\u001b[1;33m]\u001b[0m\u001b[1;33m.\u001b[0m\u001b[0mcolumns\u001b[0m\u001b[1;33m\u001b[0m\u001b[1;33m\u001b[0m\u001b[0m\n\u001b[0m",
      "\u001b[1;32mC:\\anaconda\\Lib\\site-packages\\pandas\\core\\generic.py\u001b[0m in \u001b[0;36m?\u001b[1;34m(self, name)\u001b[0m\n\u001b[0;32m   5985\u001b[0m             \u001b[1;32mand\u001b[0m \u001b[0mname\u001b[0m \u001b[1;32mnot\u001b[0m \u001b[1;32min\u001b[0m \u001b[0mself\u001b[0m\u001b[1;33m.\u001b[0m\u001b[0m_accessors\u001b[0m\u001b[1;33m\u001b[0m\u001b[1;33m\u001b[0m\u001b[0m\n\u001b[0;32m   5986\u001b[0m             \u001b[1;32mand\u001b[0m \u001b[0mself\u001b[0m\u001b[1;33m.\u001b[0m\u001b[0m_info_axis\u001b[0m\u001b[1;33m.\u001b[0m\u001b[0m_can_hold_identifiers_and_holds_name\u001b[0m\u001b[1;33m(\u001b[0m\u001b[0mname\u001b[0m\u001b[1;33m)\u001b[0m\u001b[1;33m\u001b[0m\u001b[1;33m\u001b[0m\u001b[0m\n\u001b[0;32m   5987\u001b[0m         ):\n\u001b[0;32m   5988\u001b[0m             \u001b[1;32mreturn\u001b[0m \u001b[0mself\u001b[0m\u001b[1;33m[\u001b[0m\u001b[0mname\u001b[0m\u001b[1;33m]\u001b[0m\u001b[1;33m\u001b[0m\u001b[1;33m\u001b[0m\u001b[0m\n\u001b[1;32m-> 5989\u001b[1;33m         \u001b[1;32mreturn\u001b[0m \u001b[0mobject\u001b[0m\u001b[1;33m.\u001b[0m\u001b[0m__getattribute__\u001b[0m\u001b[1;33m(\u001b[0m\u001b[0mself\u001b[0m\u001b[1;33m,\u001b[0m \u001b[0mname\u001b[0m\u001b[1;33m)\u001b[0m\u001b[1;33m\u001b[0m\u001b[1;33m\u001b[0m\u001b[0m\n\u001b[0m",
      "\u001b[1;31mAttributeError\u001b[0m: 'Series' object has no attribute 'columns'"
     ]
    }
   ],
   "source": []
  },
  {
   "cell_type": "code",
   "execution_count": 7,
   "id": "e71ee890",
   "metadata": {},
   "outputs": [
    {
     "data": {
      "text/plain": [
       "74455.81459209183"
      ]
     },
     "execution_count": 7,
     "metadata": {},
     "output_type": "execute_result"
    }
   ],
   "source": [
    "visa_df['prevailing_wage'].mean()"
   ]
  },
  {
   "cell_type": "code",
   "execution_count": 9,
   "id": "afed9767",
   "metadata": {},
   "outputs": [],
   "source": [
    "pwage=visa_df['prevailing_wage']\n",
    "pwage_mean=visa_df['prevailing_wage'].mean()\n",
    "pwage_std=visa_df['prevailing_wage'].std()\n",
    "nr=pwage-pwage_mean\n",
    "visa_df['prevailing_wage_z']=nr/pwage_std"
   ]
  },
  {
   "cell_type": "code",
   "execution_count": null,
   "id": "17347969",
   "metadata": {},
   "outputs": [],
   "source": [
    "visa_df=[]"
   ]
  },
  {
   "cell_type": "code",
   "execution_count": 11,
   "id": "566fb9e9",
   "metadata": {},
   "outputs": [
    {
     "ename": "AttributeError",
     "evalue": "'list' object has no attribute 'max'",
     "output_type": "error",
     "traceback": [
      "\u001b[1;31m---------------------------------------------------------------------------\u001b[0m",
      "\u001b[1;31mAttributeError\u001b[0m                            Traceback (most recent call last)",
      "Cell \u001b[1;32mIn[11], line 1\u001b[0m\n\u001b[1;32m----> 1\u001b[0m visa_df\u001b[38;5;241m=\u001b[39m[\u001b[38;5;124m'\u001b[39m\u001b[38;5;124mprevailing_wage\u001b[39m\u001b[38;5;124m'\u001b[39m]\u001b[38;5;241m.\u001b[39mmax(),visa_df[\u001b[38;5;124m'\u001b[39m\u001b[38;5;124mprevailing_wage_z\u001b[39m\u001b[38;5;124m'\u001b[39m]\u001b[38;5;241m.\u001b[39mmax()\n",
      "\u001b[1;31mAttributeError\u001b[0m: 'list' object has no attribute 'max'"
     ]
    }
   ],
   "source": [
    "visa_df=['prevailing_wage'].max(),visa_df['prevailing_wage_z'].max()"
   ]
  },
  {
   "cell_type": "code",
   "execution_count": 12,
   "id": "fdf9d6f9",
   "metadata": {},
   "outputs": [
    {
     "data": {
      "text/plain": [
       "21077"
      ]
     },
     "execution_count": 12,
     "metadata": {},
     "output_type": "execute_result"
    }
   ],
   "source": [
    "visa_df['prevailing_wage'].idxmax()"
   ]
  },
  {
   "cell_type": "code",
   "execution_count": 13,
   "id": "adfc3a0c",
   "metadata": {},
   "outputs": [
    {
     "data": {
      "text/plain": [
       "20575"
      ]
     },
     "execution_count": 13,
     "metadata": {},
     "output_type": "execute_result"
    }
   ],
   "source": [
    "visa_df['prevailing_wage'].idxmin()\n",
    "#"
   ]
  },
  {
   "cell_type": "code",
   "execution_count": 14,
   "id": "3e069479",
   "metadata": {},
   "outputs": [
    {
     "data": {
      "text/html": [
       "<div>\n",
       "<style scoped>\n",
       "    .dataframe tbody tr th:only-of-type {\n",
       "        vertical-align: middle;\n",
       "    }\n",
       "\n",
       "    .dataframe tbody tr th {\n",
       "        vertical-align: top;\n",
       "    }\n",
       "\n",
       "    .dataframe thead th {\n",
       "        text-align: right;\n",
       "    }\n",
       "</style>\n",
       "<table border=\"1\" class=\"dataframe\">\n",
       "  <thead>\n",
       "    <tr style=\"text-align: right;\">\n",
       "      <th></th>\n",
       "      <th>case_id</th>\n",
       "      <th>continent</th>\n",
       "      <th>education_of_employee</th>\n",
       "      <th>has_job_experience</th>\n",
       "      <th>requires_job_training</th>\n",
       "      <th>no_of_employees</th>\n",
       "      <th>yr_of_estab</th>\n",
       "      <th>region_of_employment</th>\n",
       "      <th>prevailing_wage</th>\n",
       "      <th>unit_of_wage</th>\n",
       "      <th>full_time_position</th>\n",
       "      <th>case_status</th>\n",
       "      <th>prevailing_wage_z</th>\n",
       "    </tr>\n",
       "  </thead>\n",
       "  <tbody>\n",
       "    <tr>\n",
       "      <th>21077</th>\n",
       "      <td>EZYV21078</td>\n",
       "      <td>Asia</td>\n",
       "      <td>High School</td>\n",
       "      <td>N</td>\n",
       "      <td>N</td>\n",
       "      <td>442</td>\n",
       "      <td>2006</td>\n",
       "      <td>Midwest</td>\n",
       "      <td>319210.2700</td>\n",
       "      <td>Year</td>\n",
       "      <td>Y</td>\n",
       "      <td>Denied</td>\n",
       "      <td>4.634102</td>\n",
       "    </tr>\n",
       "    <tr>\n",
       "      <th>20575</th>\n",
       "      <td>EZYV20576</td>\n",
       "      <td>North America</td>\n",
       "      <td>Master's</td>\n",
       "      <td>N</td>\n",
       "      <td>N</td>\n",
       "      <td>1552</td>\n",
       "      <td>2004</td>\n",
       "      <td>Northeast</td>\n",
       "      <td>2.1367</td>\n",
       "      <td>Hour</td>\n",
       "      <td>Y</td>\n",
       "      <td>Certified</td>\n",
       "      <td>-1.409682</td>\n",
       "    </tr>\n",
       "  </tbody>\n",
       "</table>\n",
       "</div>"
      ],
      "text/plain": [
       "         case_id      continent education_of_employee has_job_experience  \\\n",
       "21077  EZYV21078           Asia           High School                  N   \n",
       "20575  EZYV20576  North America              Master's                  N   \n",
       "\n",
       "      requires_job_training  no_of_employees  yr_of_estab  \\\n",
       "21077                     N              442         2006   \n",
       "20575                     N             1552         2004   \n",
       "\n",
       "      region_of_employment  prevailing_wage unit_of_wage full_time_position  \\\n",
       "21077              Midwest      319210.2700         Year                  Y   \n",
       "20575            Northeast           2.1367         Hour                  Y   \n",
       "\n",
       "      case_status  prevailing_wage_z  \n",
       "21077      Denied           4.634102  \n",
       "20575   Certified          -1.409682  "
      ]
     },
     "execution_count": 14,
     "metadata": {},
     "output_type": "execute_result"
    }
   ],
   "source": [
    "visa_df.iloc[[21077,20575]]"
   ]
  },
  {
   "cell_type": "code",
   "execution_count": null,
   "id": "09141101",
   "metadata": {},
   "outputs": [],
   "source": [
    "cols=['prevailing_wage','prevailing_wage_z']\n",
    "ids=[2107,20575\n",
    "visa_df[['prevailing_wage','prevailing_wage_z']].iloc[[2107,20575]]\n",
    "visa_df[cols].iloc[ids]"
   ]
  },
  {
   "cell_type": "markdown",
   "id": "383af066",
   "metadata": {},
   "source": [
    "$standardscalar$"
   ]
  },
  {
   "cell_type": "code",
   "execution_count": null,
   "id": "3329fe6a",
   "metadata": {},
   "outputs": [],
   "source": [
    "#generally will overwrite the column values\n",
    "#because we want to clean "
   ]
  },
  {
   "cell_type": "code",
   "execution_count": 22,
   "id": "f4fb5833",
   "metadata": {},
   "outputs": [],
   "source": [
    "#read the package\n",
    "#save the package\n",
    "#apply fit trans\n",
    "\n",
    "from sklearn.preprocessing import StandardScaler\n",
    "ss=StandardScaler()\n",
    "visa_df['prevailing_wage']=ss.fit_transform(visa_df[['prevailing_wage']])"
   ]
  },
  {
   "cell_type": "code",
   "execution_count": null,
   "id": "8cd8e26f",
   "metadata": {},
   "outputs": [],
   "source": [
    "cols=['prevailing_wage','prevailing_wage']"
   ]
  },
  {
   "cell_type": "code",
   "execution_count": null,
   "id": "21882ecc",
   "metadata": {},
   "outputs": [],
   "source": []
  },
  {
   "cell_type": "markdown",
   "id": "071a29e2",
   "metadata": {},
   "source": [
    "$ min max scaler$"
   ]
  },
  {
   "cell_type": "code",
   "execution_count": null,
   "id": "b36741fd",
   "metadata": {},
   "outputs": [],
   "source": [
    "# x-xmin/(xmax-min)\n",
    "#step 1: read the pawge column\n",
    "# step2: find the min value of the pwage column\n",
    "#step 3: find the max value of the column\n",
    "#step 4:nr=data column-min value\n",
    "#step 5: dr=max_value-min_value\n",
    "#step 5 : nr/dr\n",
    "\n",
    "#x= data column\n",
    "# x min\n",
    "#x max\n",
    "# nr = x-xmin\n",
    "#dr=x_max-x_min\n",
    "#nr/dr"
   ]
  },
  {
   "cell_type": "code",
   "execution_count": 23,
   "id": "b9945984",
   "metadata": {},
   "outputs": [
    {
     "data": {
      "text/html": [
       "<div>\n",
       "<style scoped>\n",
       "    .dataframe tbody tr th:only-of-type {\n",
       "        vertical-align: middle;\n",
       "    }\n",
       "\n",
       "    .dataframe tbody tr th {\n",
       "        vertical-align: top;\n",
       "    }\n",
       "\n",
       "    .dataframe thead th {\n",
       "        text-align: right;\n",
       "    }\n",
       "</style>\n",
       "<table border=\"1\" class=\"dataframe\">\n",
       "  <thead>\n",
       "    <tr style=\"text-align: right;\">\n",
       "      <th></th>\n",
       "      <th>case_id</th>\n",
       "      <th>continent</th>\n",
       "      <th>education_of_employee</th>\n",
       "      <th>has_job_experience</th>\n",
       "      <th>requires_job_training</th>\n",
       "      <th>no_of_employees</th>\n",
       "      <th>yr_of_estab</th>\n",
       "      <th>region_of_employment</th>\n",
       "      <th>prevailing_wage</th>\n",
       "      <th>unit_of_wage</th>\n",
       "      <th>full_time_position</th>\n",
       "      <th>case_status</th>\n",
       "    </tr>\n",
       "  </thead>\n",
       "  <tbody>\n",
       "    <tr>\n",
       "      <th>0</th>\n",
       "      <td>EZYV01</td>\n",
       "      <td>Asia</td>\n",
       "      <td>High School</td>\n",
       "      <td>N</td>\n",
       "      <td>N</td>\n",
       "      <td>14513</td>\n",
       "      <td>2007</td>\n",
       "      <td>West</td>\n",
       "      <td>592.2029</td>\n",
       "      <td>Hour</td>\n",
       "      <td>Y</td>\n",
       "      <td>Denied</td>\n",
       "    </tr>\n",
       "    <tr>\n",
       "      <th>1</th>\n",
       "      <td>EZYV02</td>\n",
       "      <td>Asia</td>\n",
       "      <td>Master's</td>\n",
       "      <td>Y</td>\n",
       "      <td>N</td>\n",
       "      <td>2412</td>\n",
       "      <td>2002</td>\n",
       "      <td>Northeast</td>\n",
       "      <td>83425.6500</td>\n",
       "      <td>Year</td>\n",
       "      <td>Y</td>\n",
       "      <td>Certified</td>\n",
       "    </tr>\n",
       "    <tr>\n",
       "      <th>2</th>\n",
       "      <td>EZYV03</td>\n",
       "      <td>Asia</td>\n",
       "      <td>Bachelor's</td>\n",
       "      <td>N</td>\n",
       "      <td>Y</td>\n",
       "      <td>44444</td>\n",
       "      <td>2008</td>\n",
       "      <td>West</td>\n",
       "      <td>122996.8600</td>\n",
       "      <td>Year</td>\n",
       "      <td>Y</td>\n",
       "      <td>Denied</td>\n",
       "    </tr>\n",
       "    <tr>\n",
       "      <th>3</th>\n",
       "      <td>EZYV04</td>\n",
       "      <td>Asia</td>\n",
       "      <td>Bachelor's</td>\n",
       "      <td>N</td>\n",
       "      <td>N</td>\n",
       "      <td>98</td>\n",
       "      <td>1897</td>\n",
       "      <td>West</td>\n",
       "      <td>83434.0300</td>\n",
       "      <td>Year</td>\n",
       "      <td>Y</td>\n",
       "      <td>Denied</td>\n",
       "    </tr>\n",
       "    <tr>\n",
       "      <th>4</th>\n",
       "      <td>EZYV05</td>\n",
       "      <td>Africa</td>\n",
       "      <td>Master's</td>\n",
       "      <td>Y</td>\n",
       "      <td>N</td>\n",
       "      <td>1082</td>\n",
       "      <td>2005</td>\n",
       "      <td>South</td>\n",
       "      <td>149907.3900</td>\n",
       "      <td>Year</td>\n",
       "      <td>Y</td>\n",
       "      <td>Certified</td>\n",
       "    </tr>\n",
       "    <tr>\n",
       "      <th>...</th>\n",
       "      <td>...</td>\n",
       "      <td>...</td>\n",
       "      <td>...</td>\n",
       "      <td>...</td>\n",
       "      <td>...</td>\n",
       "      <td>...</td>\n",
       "      <td>...</td>\n",
       "      <td>...</td>\n",
       "      <td>...</td>\n",
       "      <td>...</td>\n",
       "      <td>...</td>\n",
       "      <td>...</td>\n",
       "    </tr>\n",
       "    <tr>\n",
       "      <th>25475</th>\n",
       "      <td>EZYV25476</td>\n",
       "      <td>Asia</td>\n",
       "      <td>Bachelor's</td>\n",
       "      <td>Y</td>\n",
       "      <td>Y</td>\n",
       "      <td>2601</td>\n",
       "      <td>2008</td>\n",
       "      <td>South</td>\n",
       "      <td>77092.5700</td>\n",
       "      <td>Year</td>\n",
       "      <td>Y</td>\n",
       "      <td>Certified</td>\n",
       "    </tr>\n",
       "    <tr>\n",
       "      <th>25476</th>\n",
       "      <td>EZYV25477</td>\n",
       "      <td>Asia</td>\n",
       "      <td>High School</td>\n",
       "      <td>Y</td>\n",
       "      <td>N</td>\n",
       "      <td>3274</td>\n",
       "      <td>2006</td>\n",
       "      <td>Northeast</td>\n",
       "      <td>279174.7900</td>\n",
       "      <td>Year</td>\n",
       "      <td>Y</td>\n",
       "      <td>Certified</td>\n",
       "    </tr>\n",
       "    <tr>\n",
       "      <th>25477</th>\n",
       "      <td>EZYV25478</td>\n",
       "      <td>Asia</td>\n",
       "      <td>Master's</td>\n",
       "      <td>Y</td>\n",
       "      <td>N</td>\n",
       "      <td>1121</td>\n",
       "      <td>1910</td>\n",
       "      <td>South</td>\n",
       "      <td>146298.8500</td>\n",
       "      <td>Year</td>\n",
       "      <td>N</td>\n",
       "      <td>Certified</td>\n",
       "    </tr>\n",
       "    <tr>\n",
       "      <th>25478</th>\n",
       "      <td>EZYV25479</td>\n",
       "      <td>Asia</td>\n",
       "      <td>Master's</td>\n",
       "      <td>Y</td>\n",
       "      <td>Y</td>\n",
       "      <td>1918</td>\n",
       "      <td>1887</td>\n",
       "      <td>West</td>\n",
       "      <td>86154.7700</td>\n",
       "      <td>Year</td>\n",
       "      <td>Y</td>\n",
       "      <td>Certified</td>\n",
       "    </tr>\n",
       "    <tr>\n",
       "      <th>25479</th>\n",
       "      <td>EZYV25480</td>\n",
       "      <td>Asia</td>\n",
       "      <td>Bachelor's</td>\n",
       "      <td>Y</td>\n",
       "      <td>N</td>\n",
       "      <td>3195</td>\n",
       "      <td>1960</td>\n",
       "      <td>Midwest</td>\n",
       "      <td>70876.9100</td>\n",
       "      <td>Year</td>\n",
       "      <td>Y</td>\n",
       "      <td>Certified</td>\n",
       "    </tr>\n",
       "  </tbody>\n",
       "</table>\n",
       "<p>25480 rows × 12 columns</p>\n",
       "</div>"
      ],
      "text/plain": [
       "         case_id continent education_of_employee has_job_experience  \\\n",
       "0         EZYV01      Asia           High School                  N   \n",
       "1         EZYV02      Asia              Master's                  Y   \n",
       "2         EZYV03      Asia            Bachelor's                  N   \n",
       "3         EZYV04      Asia            Bachelor's                  N   \n",
       "4         EZYV05    Africa              Master's                  Y   \n",
       "...          ...       ...                   ...                ...   \n",
       "25475  EZYV25476      Asia            Bachelor's                  Y   \n",
       "25476  EZYV25477      Asia           High School                  Y   \n",
       "25477  EZYV25478      Asia              Master's                  Y   \n",
       "25478  EZYV25479      Asia              Master's                  Y   \n",
       "25479  EZYV25480      Asia            Bachelor's                  Y   \n",
       "\n",
       "      requires_job_training  no_of_employees  yr_of_estab  \\\n",
       "0                         N            14513         2007   \n",
       "1                         N             2412         2002   \n",
       "2                         Y            44444         2008   \n",
       "3                         N               98         1897   \n",
       "4                         N             1082         2005   \n",
       "...                     ...              ...          ...   \n",
       "25475                     Y             2601         2008   \n",
       "25476                     N             3274         2006   \n",
       "25477                     N             1121         1910   \n",
       "25478                     Y             1918         1887   \n",
       "25479                     N             3195         1960   \n",
       "\n",
       "      region_of_employment  prevailing_wage unit_of_wage full_time_position  \\\n",
       "0                     West         592.2029         Hour                  Y   \n",
       "1                Northeast       83425.6500         Year                  Y   \n",
       "2                     West      122996.8600         Year                  Y   \n",
       "3                     West       83434.0300         Year                  Y   \n",
       "4                    South      149907.3900         Year                  Y   \n",
       "...                    ...              ...          ...                ...   \n",
       "25475                South       77092.5700         Year                  Y   \n",
       "25476            Northeast      279174.7900         Year                  Y   \n",
       "25477                South      146298.8500         Year                  N   \n",
       "25478                 West       86154.7700         Year                  Y   \n",
       "25479              Midwest       70876.9100         Year                  Y   \n",
       "\n",
       "      case_status  \n",
       "0          Denied  \n",
       "1       Certified  \n",
       "2          Denied  \n",
       "3          Denied  \n",
       "4       Certified  \n",
       "...           ...  \n",
       "25475   Certified  \n",
       "25476   Certified  \n",
       "25477   Certified  \n",
       "25478   Certified  \n",
       "25479   Certified  \n",
       "\n",
       "[25480 rows x 12 columns]"
      ]
     },
     "execution_count": 23,
     "metadata": {},
     "output_type": "execute_result"
    }
   ],
   "source": [
    "path=r\"C:\\Users\\tanma\\DATASCIENCE\\string & list\\Visadataset.xlsx\"\n",
    "visa_df=pd.read_excel(path)\n",
    "visa_df\n"
   ]
  },
  {
   "cell_type": "code",
   "execution_count": 26,
   "id": "50e8c6a8",
   "metadata": {},
   "outputs": [
    {
     "data": {
      "text/plain": [
       "0        0.001849\n",
       "1        0.261345\n",
       "2        0.385312\n",
       "3        0.261371\n",
       "4        0.469616\n",
       "           ...   \n",
       "25475    0.241505\n",
       "25476    0.874579\n",
       "25477    0.458311\n",
       "25478    0.269895\n",
       "25479    0.222033\n",
       "Name: prevailing_wage_norm, Length: 25480, dtype: float64"
      ]
     },
     "execution_count": 26,
     "metadata": {},
     "output_type": "execute_result"
    }
   ],
   "source": [
    "pwage=visa_df['prevailing_wage']\n",
    "pwage_min=visa_df['prevailing_wage'].min()\n",
    "pwage_max=visa_df['prevailing_wage'].max()\n",
    "nr=pwage-pwage_min\n",
    "dr=pwage_max-pwage_min\n",
    "visa_df['prevailing_wage_norm']=nr/dr\n",
    "visa_df['prevailing_wage_norm']"
   ]
  },
  {
   "cell_type": "code",
   "execution_count": 27,
   "id": "ed5c7fe5",
   "metadata": {},
   "outputs": [
    {
     "data": {
      "text/plain": [
       "(0.0, 1.0)"
      ]
     },
     "execution_count": 27,
     "metadata": {},
     "output_type": "execute_result"
    }
   ],
   "source": [
    "visa_df['prevailing_wage_norm'].min(),visa_df['prevailing_wage_norm'].max()"
   ]
  },
  {
   "cell_type": "code",
   "execution_count": null,
   "id": "64805cde",
   "metadata": {},
   "outputs": [],
   "source": [
    "from sklearn.preprocessing import"
   ]
  },
  {
   "cell_type": "code",
   "execution_count": null,
   "id": "d8cf78cb",
   "metadata": {},
   "outputs": [],
   "source": []
  },
  {
   "cell_type": "code",
   "execution_count": null,
   "id": "2e0fa177",
   "metadata": {},
   "outputs": [],
   "source": []
  },
  {
   "cell_type": "code",
   "execution_count": null,
   "id": "969a282a",
   "metadata": {},
   "outputs": [],
   "source": []
  },
  {
   "cell_type": "code",
   "execution_count": null,
   "id": "180a24d5",
   "metadata": {},
   "outputs": [],
   "source": []
  }
 ],
 "metadata": {
  "kernelspec": {
   "display_name": "Python 3 (ipykernel)",
   "language": "python",
   "name": "python3"
  },
  "language_info": {
   "codemirror_mode": {
    "name": "ipython",
    "version": 3
   },
   "file_extension": ".py",
   "mimetype": "text/x-python",
   "name": "python",
   "nbconvert_exporter": "python",
   "pygments_lexer": "ipython3",
   "version": "3.11.5"
  }
 },
 "nbformat": 4,
 "nbformat_minor": 5
}
