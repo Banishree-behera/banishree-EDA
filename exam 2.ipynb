{
 "cells": [
  {
   "cell_type": "code",
   "execution_count": null,
   "id": "83ccbd57",
   "metadata": {},
   "outputs": [],
   "source": [
    "#7) Differential between the standardization and \n",
    "#normalization – python."
   ]
  },
  {
   "cell_type": "code",
   "execution_count": null,
   "id": "12fdcaf9",
   "metadata": {},
   "outputs": [],
   "source": [
    "Standardization& normalization are two way to scale the data value.\n",
    "to make standardize our data set we follow standard deviation \n",
    "technique\n",
    "\n",
    "\n",
    "Normalization is reduced big data values into samll but value will \n",
    "not be changed. That is called normalization.in this each value \n",
    "will follow 0 to 1."
   ]
  },
  {
   "cell_type": "code",
   "execution_count": null,
   "id": "b59533e9",
   "metadata": {},
   "outputs": [],
   "source": [
    "#2) Explain the types of sampling in statistics-theory."
   ]
  },
  {
   "cell_type": "code",
   "execution_count": null,
   "id": "005de7e2",
   "metadata": {},
   "outputs": [],
   "source": [
    "Sampling is finding mean,median,mode on sample data on\n",
    "the basis of population data. It is called inferential statistics \n",
    "also.\n"
   ]
  },
  {
   "cell_type": "code",
   "execution_count": null,
   "id": "91b7ed0b",
   "metadata": {},
   "outputs": [],
   "source": []
  },
  {
   "cell_type": "code",
   "execution_count": null,
   "id": "891f38e6",
   "metadata": {},
   "outputs": [],
   "source": []
  },
  {
   "cell_type": "code",
   "execution_count": null,
   "id": "67e2b9f0",
   "metadata": {},
   "outputs": [],
   "source": []
  }
 ],
 "metadata": {
  "kernelspec": {
   "display_name": "Python 3 (ipykernel)",
   "language": "python",
   "name": "python3"
  },
  "language_info": {
   "codemirror_mode": {
    "name": "ipython",
    "version": 3
   },
   "file_extension": ".py",
   "mimetype": "text/x-python",
   "name": "python",
   "nbconvert_exporter": "python",
   "pygments_lexer": "ipython3",
   "version": "3.11.5"
  }
 },
 "nbformat": 4,
 "nbformat_minor": 5
}
