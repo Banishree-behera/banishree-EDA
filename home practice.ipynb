{
 "cells": [
  {
   "cell_type": "code",
   "execution_count": 1,
   "id": "ed18151c",
   "metadata": {},
   "outputs": [],
   "source": [
    "#reading a data file\n",
    "\n",
    "import pandas as pd\n",
    "import matplotlib.pyplot as plt\n",
    "import seaborn as sns"
   ]
  },
  {
   "cell_type": "code",
   "execution_count": 2,
   "id": "a64803be",
   "metadata": {},
   "outputs": [
    {
     "ename": "NameError",
     "evalue": "name 'df' is not defined",
     "output_type": "error",
     "traceback": [
      "\u001b[1;31m---------------------------------------------------------------------------\u001b[0m",
      "\u001b[1;31mNameError\u001b[0m                                 Traceback (most recent call last)",
      "Cell \u001b[1;32mIn[2], line 1\u001b[0m\n\u001b[1;32m----> 1\u001b[0m df\u001b[38;5;241m.\u001b[39mtail(\u001b[38;5;241m2\u001b[39m)\n",
      "\u001b[1;31mNameError\u001b[0m: name 'df' is not defined"
     ]
    }
   ],
   "source": [
    "df.tail(2)"
   ]
  },
  {
   "cell_type": "code",
   "execution_count": null,
   "id": "72cbb177",
   "metadata": {},
   "outputs": [],
   "source": [
    "df.shape"
   ]
  },
  {
   "cell_type": "code",
   "execution_count": null,
   "id": "9a61ad66",
   "metadata": {},
   "outputs": [],
   "source": [
    "df.size"
   ]
  },
  {
   "cell_type": "code",
   "execution_count": null,
   "id": "7295fb63",
   "metadata": {},
   "outputs": [],
   "source": [
    "df.columns"
   ]
  },
  {
   "cell_type": "code",
   "execution_count": null,
   "id": "dcf74361",
   "metadata": {},
   "outputs": [],
   "source": [
    "df.rows"
   ]
  },
  {
   "cell_type": "code",
   "execution_count": null,
   "id": "6591b42b",
   "metadata": {},
   "outputs": [],
   "source": [
    "type(df)"
   ]
  },
  {
   "cell_type": "code",
   "execution_count": null,
   "id": "8a343ba7",
   "metadata": {},
   "outputs": [],
   "source": [
    "type(df.columns)"
   ]
  },
  {
   "cell_type": "code",
   "execution_count": null,
   "id": "fd89844f",
   "metadata": {},
   "outputs": [],
   "source": [
    "df.dtypes"
   ]
  },
  {
   "cell_type": "code",
   "execution_count": null,
   "id": "34f5ef9c",
   "metadata": {},
   "outputs": [],
   "source": [
    "#find out categorical and non categorical\n",
    "d1=dict(df.dtypes)\n",
    "for i in d1:\n",
    "    if d1[i] =='object':\n",
    "        print(i)\n"
   ]
  },
  {
   "cell_type": "code",
   "execution_count": null,
   "id": "fccfcca1",
   "metadata": {},
   "outputs": [],
   "source": [
    "d1=dict(df.dtypes)\n",
    "cat=[i for i in d1 if d1[i]=='object']\n",
    "num=[i for i in d1 if d1[i]!= 'object']"
   ]
  },
  {
   "cell_type": "code",
   "execution_count": null,
   "id": "b2fbc240",
   "metadata": {},
   "outputs": [],
   "source": [
    "cat"
   ]
  },
  {
   "cell_type": "code",
   "execution_count": null,
   "id": "61db8298",
   "metadata": {},
   "outputs": [],
   "source": [
    "df.select_dtypes(include='object').columns"
   ]
  },
  {
   "cell_type": "code",
   "execution_count": null,
   "id": "97840500",
   "metadata": {},
   "outputs": [],
   "source": [
    "df.select_dtypes(exclude='object').columns"
   ]
  },
  {
   "cell_type": "code",
   "execution_count": null,
   "id": "ccac6ea6",
   "metadata": {},
   "outputs": [],
   "source": [
    "#identify any null value,means da has any null value or not\n",
    "df.isnull()"
   ]
  },
  {
   "cell_type": "code",
   "execution_count": null,
   "id": "80b5a293",
   "metadata": {},
   "outputs": [],
   "source": [
    "df.isnull().sum()"
   ]
  },
  {
   "cell_type": "code",
   "execution_count": null,
   "id": "9d72273c",
   "metadata": {},
   "outputs": [],
   "source": [
    "df.drop_duplicates()"
   ]
  },
  {
   "cell_type": "code",
   "execution_count": null,
   "id": "93f03f9d",
   "metadata": {},
   "outputs": [],
   "source": [
    "df.info()"
   ]
  },
  {
   "cell_type": "code",
   "execution_count": null,
   "id": "5ca3c134",
   "metadata": {},
   "outputs": [],
   "source": [
    "len(df)"
   ]
  },
  {
   "cell_type": "code",
   "execution_count": null,
   "id": "5b49c99d",
   "metadata": {},
   "outputs": [],
   "source": [
    "#loc & iloc\n",
    "df.take((2,3,20))"
   ]
  },
  {
   "cell_type": "code",
   "execution_count": null,
   "id": "20cce348",
   "metadata": {},
   "outputs": [],
   "source": [
    "df.take([5,6],axis=1)"
   ]
  },
  {
   "cell_type": "code",
   "execution_count": null,
   "id": "f579947c",
   "metadata": {},
   "outputs": [],
   "source": [
    "df.take([20,21,23])"
   ]
  },
  {
   "cell_type": "code",
   "execution_count": null,
   "id": "efa6a79d",
   "metadata": {},
   "outputs": [],
   "source": [
    "df.take([23,24,25]).take([1,2])"
   ]
  },
  {
   "cell_type": "code",
   "execution_count": null,
   "id": "f8e3d96e",
   "metadata": {},
   "outputs": [],
   "source": [
    "df.iloc[2:10]"
   ]
  },
  {
   "cell_type": "code",
   "execution_count": null,
   "id": "50bf61a9",
   "metadata": {},
   "outputs": [],
   "source": [
    "df.iloc[2:8,1:2]"
   ]
  },
  {
   "cell_type": "code",
   "execution_count": null,
   "id": "6871528a",
   "metadata": {},
   "outputs": [],
   "source": [
    "df.iloc[:,1:2]"
   ]
  },
  {
   "cell_type": "code",
   "execution_count": null,
   "id": "64ea0640",
   "metadata": {},
   "outputs": [],
   "source": [
    "df.iloc[[23,24,25],[1]]"
   ]
  },
  {
   "cell_type": "code",
   "execution_count": null,
   "id": "dea4c080",
   "metadata": {},
   "outputs": [],
   "source": []
  },
  {
   "cell_type": "code",
   "execution_count": null,
   "id": "0232e1ce",
   "metadata": {},
   "outputs": [],
   "source": [
    "import pandas as pd\n",
    "import numpy as np\n",
    "import matplotlib.pyplot as plt\n",
    "import seaborn as sns\n"
   ]
  },
  {
   "cell_type": "code",
   "execution_count": null,
   "id": "59d17cf4",
   "metadata": {},
   "outputs": [],
   "source": [
    "path=r\"C:\\Users\\tanma\\DATASCIENCE\\string & list\\Visadataset.xlsx\"\n",
    "visa_df=pd.read_excel(path)"
   ]
  },
  {
   "cell_type": "code",
   "execution_count": null,
   "id": "93d9e3a4",
   "metadata": {},
   "outputs": [],
   "source": [
    "visa_df.columns"
   ]
  },
  {
   "cell_type": "code",
   "execution_count": null,
   "id": "d4efad8e",
   "metadata": {},
   "outputs": [],
   "source": [
    "visa_df['has_job_experience'].values"
   ]
  },
  {
   "cell_type": "code",
   "execution_count": null,
   "id": "ecd33429",
   "metadata": {},
   "outputs": [],
   "source": [
    "visa_df['continent'].unique()"
   ]
  },
  {
   "cell_type": "code",
   "execution_count": null,
   "id": "e5d98c14",
   "metadata": {},
   "outputs": [],
   "source": [
    "visa_df['continent'].nunique()"
   ]
  },
  {
   "cell_type": "code",
   "execution_count": null,
   "id": "fb8c63f7",
   "metadata": {},
   "outputs": [],
   "source": [
    "#frequency table"
   ]
  },
  {
   "cell_type": "code",
   "execution_count": null,
   "id": "892e6c6a",
   "metadata": {},
   "outputs": [],
   "source": [
    "unique_lables=visa_df['education_of_employee'].unique()\n",
    "count=[]\n",
    "for i in unique_lables:\n",
    "    con=visa_df['education_of_employee']==i\n",
    "    count.append(len(visa_df[con]))\n",
    "                 \n",
    "education_of_employee_df=pd.DataFrame(unique_lables,count,columns=['employee','count'])\n",
    "education_of_employee_df.to_csv('education_of_employee_df.csv',index=False)\n"
   ]
  },
  {
   "cell_type": "code",
   "execution_count": null,
   "id": "cb70ac15",
   "metadata": {},
   "outputs": [],
   "source": [
    "employee_vc=visa_df['education_of_employee'].value_counts()\n",
    "employee_vc"
   ]
  },
  {
   "cell_type": "code",
   "execution_count": null,
   "id": "80eea2d3",
   "metadata": {},
   "outputs": [],
   "source": [
    "plt.boxplot(visa_df['education_of_employee'])\n",
    "plt.boxplot(non_outliers_df['education_of_employee'])\n",
    "plt.show()"
   ]
  },
  {
   "cell_type": "code",
   "execution_count": null,
   "id": "6909786f",
   "metadata": {},
   "outputs": [],
   "source": [
    "import pandas as pd\n",
    "import numpy as np\n",
    "import matplotlib.pyplot as plt\n",
    "import seaborn as sns"
   ]
  },
  {
   "cell_type": "code",
   "execution_count": null,
   "id": "104ba2fc",
   "metadata": {},
   "outputs": [],
   "source": [
    "path=r\"C:\\Users\\tanma\\DATASCIENCE\\string & list\\Visadataset.xlsx\"\n",
    "visa_df=pd.read_excel(path)"
   ]
  },
  {
   "cell_type": "code",
   "execution_count": null,
   "id": "775b50ab",
   "metadata": {},
   "outputs": [],
   "source": [
    "visa_df.columns"
   ]
  },
  {
   "cell_type": "code",
   "execution_count": null,
   "id": "18d824f5",
   "metadata": {},
   "outputs": [],
   "source": [
    "visa_df['continent']"
   ]
  },
  {
   "cell_type": "code",
   "execution_count": null,
   "id": "ea58aa3d",
   "metadata": {},
   "outputs": [],
   "source": [
    "visa_df['continent'].unique()"
   ]
  },
  {
   "cell_type": "code",
   "execution_count": null,
   "id": "617cdee6",
   "metadata": {},
   "outputs": [],
   "source": [
    "unique_labels=visa_df['continent'].unique()\n",
    "count=[]\n",
    "for i in unique_labels:\n",
    "    con =visa_df['continent']==i\n",
    "    count.append(len(visa_df[con]))\n",
    "continent_df=pd.DataFrame(zip(unique_labels,count),\n",
    "                 columns=['continent','count'])\n",
    "continent_df"
   ]
  },
  {
   "cell_type": "code",
   "execution_count": null,
   "id": "442d562a",
   "metadata": {},
   "outputs": [],
   "source": [
    "continent_vc=visa_df['continent'].value_counts()\n",
    "continent_vc"
   ]
  },
  {
   "cell_type": "code",
   "execution_count": null,
   "id": "95d118a1",
   "metadata": {},
   "outputs": [],
   "source": [
    "continent_vc.keys()"
   ]
  },
  {
   "cell_type": "code",
   "execution_count": null,
   "id": "4c09f5f9",
   "metadata": {},
   "outputs": [],
   "source": [
    "continent_vc.values"
   ]
  },
  {
   "cell_type": "code",
   "execution_count": null,
   "id": "ce2f9bdf",
   "metadata": {},
   "outputs": [],
   "source": [
    "continent_vc=visa_df['continent'].value_counts()"
   ]
  },
  {
   "cell_type": "markdown",
   "id": "4ed61ffa",
   "metadata": {},
   "source": [
    "$practice$ $of$ $8th$ $March$"
   ]
  },
  {
   "cell_type": "code",
   "execution_count": null,
   "id": "e2705dc2",
   "metadata": {},
   "outputs": [],
   "source": [
    "visa_df['case_status'].unique()"
   ]
  },
  {
   "cell_type": "code",
   "execution_count": null,
   "id": "0efbedc3",
   "metadata": {
    "scrolled": true
   },
   "outputs": [],
   "source": [
    "d={'Certified':0,'Denied':1}\n",
    "visa_df['case_status']=visa_df['case_status'].map(d)\n",
    "visa_df"
   ]
  },
  {
   "cell_type": "code",
   "execution_count": null,
   "id": "d04f36c8",
   "metadata": {
    "scrolled": true
   },
   "outputs": [],
   "source": [
    "d={}\n",
    "labels=visa_df['continent'].unique()\n",
    "for i in range(len(labels)):\n",
    "    d[labels[i]]=i\n",
    "\n",
    "visa_df['continent']=visa_df['continent'].map(d)\n",
    "visa_df"
   ]
  },
  {
   "cell_type": "code",
   "execution_count": null,
   "id": "19449d77",
   "metadata": {},
   "outputs": [],
   "source": [
    "# case_id cate\n",
    "# labels 25480\n",
    "#for i in range(25480)\n",
    "#d[case_id[1]]"
   ]
  },
  {
   "cell_type": "code",
   "execution_count": null,
   "id": "bdaa9eb7",
   "metadata": {},
   "outputs": [],
   "source": [
    "import pandas as pd\n",
    "import numpy as np\n",
    "import matplotlib.pyplot as plt\n",
    "import seaborn as sns\n",
    "\n",
    "path=r\"C:\\Users\\tanma\\DATASCIENCE\\string & list\\Visadataset.xlsx\"\n",
    "visa_df=pd.read_excel(path)\n",
    "\n",
    "cat_cols=visa_df.select_dtypes(include='object').columns\n",
    "\n",
    "d={}\n",
    "for j in cat_cols[1:]:\n",
    "    labels=visa_df[j].unique()\n",
    "    for i in range(len(labels)):\n",
    "        d[labels[i]]=i\n",
    "    visa_df[j]=visa_df[j].map(d)\n",
    "\n",
    "visa_df"
   ]
  },
  {
   "cell_type": "code",
   "execution_count": null,
   "id": "77f2f0ef",
   "metadata": {},
   "outputs": [],
   "source": [
    "import pandas as pd\n",
    "import numpy as np\n",
    "import matplotlib.pyplot as plt\n",
    "import seaborn as sns\n",
    "\n",
    "path=r\"C:\\Users\\tanma\\DATASCIENCE\\string & list\\Visadataset.xlsx\"\n",
    "visa_df=pd.read_excel(path)\n",
    "\n",
    "from sklearn.preprocessing import LabelEncoder\n",
    "le=LabelEncoder()\n",
    "visa_df['case_status']=le.fit_transform(visa_df['case_status'])\n",
    "visa_df"
   ]
  },
  {
   "cell_type": "code",
   "execution_count": null,
   "id": "059987a0",
   "metadata": {},
   "outputs": [],
   "source": [
    "from sklearn.preprocessing import LabelEncoder\n",
    "le=LabelEncoder()\n",
    "visa_df['case_status']=le.fit_transform(visa_df['case_status'])\n",
    "visa_df"
   ]
  },
  {
   "cell_type": "code",
   "execution_count": null,
   "id": "a77f89c6",
   "metadata": {},
   "outputs": [],
   "source": []
  },
  {
   "cell_type": "code",
   "execution_count": null,
   "id": "fab390a1",
   "metadata": {},
   "outputs": [],
   "source": []
  },
  {
   "cell_type": "code",
   "execution_count": null,
   "id": "faee9b81",
   "metadata": {},
   "outputs": [],
   "source": []
  },
  {
   "cell_type": "code",
   "execution_count": null,
   "id": "046b409c",
   "metadata": {},
   "outputs": [],
   "source": [
    "#################"
   ]
  },
  {
   "cell_type": "code",
   "execution_count": null,
   "id": "7a060ef4",
   "metadata": {},
   "outputs": [],
   "source": [
    "import pandas as pd\n",
    "import numpy as np\n",
    "import matplotlib.pyplot as plt\n",
    "import seaborn as sns\n",
    "\n",
    "path=r\"C:\\Users\\tanma\\DATASCIENCE\\string & list\\Visadataset.xlsx\"\n",
    "visa_df=pd.read_excel(path)\n",
    "\n",
    "c1=visa_df['continent']=='Asia'\n",
    "c2=visa_df['case_status']=='Certified'\n",
    "c3=visa_df['case_status']=='Denied'\n",
    "\n",
    "cert_con=c1&c2\n",
    "den_con=c1&c3\n",
    "\n",
    "certified_count=len(visa_df[cert_con])\n",
    "denied_count=len(visa_df[den_con])\n",
    "\n",
    "print(f\"there are {certified_count} got certified visa from Asia\")\n",
    "print(f\"there are {denied_count} got denied visa from Asia\")"
   ]
  },
  {
   "cell_type": "code",
   "execution_count": 3,
   "id": "e7f963d8",
   "metadata": {},
   "outputs": [
    {
     "data": {
      "text/html": [
       "<div>\n",
       "<style scoped>\n",
       "    .dataframe tbody tr th:only-of-type {\n",
       "        vertical-align: middle;\n",
       "    }\n",
       "\n",
       "    .dataframe tbody tr th {\n",
       "        vertical-align: top;\n",
       "    }\n",
       "\n",
       "    .dataframe thead th {\n",
       "        text-align: right;\n",
       "    }\n",
       "</style>\n",
       "<table border=\"1\" class=\"dataframe\">\n",
       "  <thead>\n",
       "    <tr style=\"text-align: right;\">\n",
       "      <th></th>\n",
       "      <th>Certified</th>\n",
       "      <th>Denied</th>\n",
       "    </tr>\n",
       "    <tr>\n",
       "      <th>continent</th>\n",
       "      <th></th>\n",
       "      <th></th>\n",
       "    </tr>\n",
       "  </thead>\n",
       "  <tbody>\n",
       "    <tr>\n",
       "      <th>Asia</th>\n",
       "      <td>11012</td>\n",
       "      <td>5849</td>\n",
       "    </tr>\n",
       "    <tr>\n",
       "      <th>Africa</th>\n",
       "      <td>397</td>\n",
       "      <td>154</td>\n",
       "    </tr>\n",
       "    <tr>\n",
       "      <th>North America</th>\n",
       "      <td>2037</td>\n",
       "      <td>1255</td>\n",
       "    </tr>\n",
       "    <tr>\n",
       "      <th>Europe</th>\n",
       "      <td>2957</td>\n",
       "      <td>775</td>\n",
       "    </tr>\n",
       "    <tr>\n",
       "      <th>South America</th>\n",
       "      <td>493</td>\n",
       "      <td>359</td>\n",
       "    </tr>\n",
       "    <tr>\n",
       "      <th>Oceania</th>\n",
       "      <td>122</td>\n",
       "      <td>70</td>\n",
       "    </tr>\n",
       "  </tbody>\n",
       "</table>\n",
       "</div>"
      ],
      "text/plain": [
       "               Certified  Denied\n",
       "continent                       \n",
       "Asia               11012    5849\n",
       "Africa               397     154\n",
       "North America       2037    1255\n",
       "Europe              2957     775\n",
       "South America        493     359\n",
       "Oceania              122      70"
      ]
     },
     "execution_count": 3,
     "metadata": {},
     "output_type": "execute_result"
    }
   ],
   "source": [
    "import pandas as pd\n",
    "import numpy as np\n",
    "import matplotlib.pyplot as plt\n",
    "import seaborn as sns\n",
    "\n",
    "path=r\"C:\\Users\\tanma\\DATASCIENCE\\string & list\\Visadataset.xlsx\"\n",
    "visa_df=pd.read_excel(path)\n",
    "\n",
    "labels=visa_df['continent'].unique()\n",
    "certified_count=[]\n",
    "denied_count=[]\n",
    "for i in labels:\n",
    "    c1=visa_df['continent']==i\n",
    "    c2=visa_df['case_status']=='Certified'\n",
    "    c3=visa_df['case_status']=='Denied'\n",
    "    \n",
    "    cert_con=c1&c2\n",
    "    den_con=c1&c3\n",
    "    \n",
    "    certified_count.append(len(visa_df[cert_con]))\n",
    "    denied_count.append(len(visa_df[den_con]))\n",
    "cols=['continent','Certified','Denied']\n",
    "d1=pd.DataFrame(zip(labels,certified_count,denied_count),\n",
    "             columns=cols)\n",
    "d1.set_index('continent')\n"
   ]
  },
  {
   "cell_type": "code",
   "execution_count": 1,
   "id": "d9e4db2c",
   "metadata": {},
   "outputs": [
    {
     "data": {
      "text/html": [
       "<div>\n",
       "<style scoped>\n",
       "    .dataframe tbody tr th:only-of-type {\n",
       "        vertical-align: middle;\n",
       "    }\n",
       "\n",
       "    .dataframe tbody tr th {\n",
       "        vertical-align: top;\n",
       "    }\n",
       "\n",
       "    .dataframe thead th {\n",
       "        text-align: right;\n",
       "    }\n",
       "</style>\n",
       "<table border=\"1\" class=\"dataframe\">\n",
       "  <thead>\n",
       "    <tr style=\"text-align: right;\">\n",
       "      <th></th>\n",
       "      <th>case_id</th>\n",
       "      <th>continent</th>\n",
       "      <th>education_of_employee</th>\n",
       "      <th>has_job_experience</th>\n",
       "      <th>requires_job_training</th>\n",
       "      <th>no_of_employees</th>\n",
       "      <th>yr_of_estab</th>\n",
       "      <th>region_of_employment</th>\n",
       "      <th>prevailing_wage</th>\n",
       "      <th>unit_of_wage</th>\n",
       "      <th>full_time_position</th>\n",
       "      <th>case_status</th>\n",
       "    </tr>\n",
       "  </thead>\n",
       "  <tbody>\n",
       "    <tr>\n",
       "      <th>0</th>\n",
       "      <td>EZYV01</td>\n",
       "      <td>Asia</td>\n",
       "      <td>High School</td>\n",
       "      <td>N</td>\n",
       "      <td>N</td>\n",
       "      <td>14513</td>\n",
       "      <td>2007</td>\n",
       "      <td>West</td>\n",
       "      <td>592.2029</td>\n",
       "      <td>Hour</td>\n",
       "      <td>Y</td>\n",
       "      <td>Denied</td>\n",
       "    </tr>\n",
       "    <tr>\n",
       "      <th>1</th>\n",
       "      <td>EZYV02</td>\n",
       "      <td>Asia</td>\n",
       "      <td>Master's</td>\n",
       "      <td>Y</td>\n",
       "      <td>N</td>\n",
       "      <td>2412</td>\n",
       "      <td>2002</td>\n",
       "      <td>Northeast</td>\n",
       "      <td>83425.6500</td>\n",
       "      <td>Year</td>\n",
       "      <td>Y</td>\n",
       "      <td>Certified</td>\n",
       "    </tr>\n",
       "    <tr>\n",
       "      <th>2</th>\n",
       "      <td>EZYV03</td>\n",
       "      <td>Asia</td>\n",
       "      <td>Bachelor's</td>\n",
       "      <td>N</td>\n",
       "      <td>Y</td>\n",
       "      <td>44444</td>\n",
       "      <td>2008</td>\n",
       "      <td>West</td>\n",
       "      <td>122996.8600</td>\n",
       "      <td>Year</td>\n",
       "      <td>Y</td>\n",
       "      <td>Denied</td>\n",
       "    </tr>\n",
       "    <tr>\n",
       "      <th>3</th>\n",
       "      <td>EZYV04</td>\n",
       "      <td>Asia</td>\n",
       "      <td>Bachelor's</td>\n",
       "      <td>N</td>\n",
       "      <td>N</td>\n",
       "      <td>98</td>\n",
       "      <td>1897</td>\n",
       "      <td>West</td>\n",
       "      <td>83434.0300</td>\n",
       "      <td>Year</td>\n",
       "      <td>Y</td>\n",
       "      <td>Denied</td>\n",
       "    </tr>\n",
       "    <tr>\n",
       "      <th>4</th>\n",
       "      <td>EZYV05</td>\n",
       "      <td>Africa</td>\n",
       "      <td>Master's</td>\n",
       "      <td>Y</td>\n",
       "      <td>N</td>\n",
       "      <td>1082</td>\n",
       "      <td>2005</td>\n",
       "      <td>South</td>\n",
       "      <td>149907.3900</td>\n",
       "      <td>Year</td>\n",
       "      <td>Y</td>\n",
       "      <td>Certified</td>\n",
       "    </tr>\n",
       "    <tr>\n",
       "      <th>...</th>\n",
       "      <td>...</td>\n",
       "      <td>...</td>\n",
       "      <td>...</td>\n",
       "      <td>...</td>\n",
       "      <td>...</td>\n",
       "      <td>...</td>\n",
       "      <td>...</td>\n",
       "      <td>...</td>\n",
       "      <td>...</td>\n",
       "      <td>...</td>\n",
       "      <td>...</td>\n",
       "      <td>...</td>\n",
       "    </tr>\n",
       "    <tr>\n",
       "      <th>25475</th>\n",
       "      <td>EZYV25476</td>\n",
       "      <td>Asia</td>\n",
       "      <td>Bachelor's</td>\n",
       "      <td>Y</td>\n",
       "      <td>Y</td>\n",
       "      <td>2601</td>\n",
       "      <td>2008</td>\n",
       "      <td>South</td>\n",
       "      <td>77092.5700</td>\n",
       "      <td>Year</td>\n",
       "      <td>Y</td>\n",
       "      <td>Certified</td>\n",
       "    </tr>\n",
       "    <tr>\n",
       "      <th>25476</th>\n",
       "      <td>EZYV25477</td>\n",
       "      <td>Asia</td>\n",
       "      <td>High School</td>\n",
       "      <td>Y</td>\n",
       "      <td>N</td>\n",
       "      <td>3274</td>\n",
       "      <td>2006</td>\n",
       "      <td>Northeast</td>\n",
       "      <td>279174.7900</td>\n",
       "      <td>Year</td>\n",
       "      <td>Y</td>\n",
       "      <td>Certified</td>\n",
       "    </tr>\n",
       "    <tr>\n",
       "      <th>25477</th>\n",
       "      <td>EZYV25478</td>\n",
       "      <td>Asia</td>\n",
       "      <td>Master's</td>\n",
       "      <td>Y</td>\n",
       "      <td>N</td>\n",
       "      <td>1121</td>\n",
       "      <td>1910</td>\n",
       "      <td>South</td>\n",
       "      <td>146298.8500</td>\n",
       "      <td>Year</td>\n",
       "      <td>N</td>\n",
       "      <td>Certified</td>\n",
       "    </tr>\n",
       "    <tr>\n",
       "      <th>25478</th>\n",
       "      <td>EZYV25479</td>\n",
       "      <td>Asia</td>\n",
       "      <td>Master's</td>\n",
       "      <td>Y</td>\n",
       "      <td>Y</td>\n",
       "      <td>1918</td>\n",
       "      <td>1887</td>\n",
       "      <td>West</td>\n",
       "      <td>86154.7700</td>\n",
       "      <td>Year</td>\n",
       "      <td>Y</td>\n",
       "      <td>Certified</td>\n",
       "    </tr>\n",
       "    <tr>\n",
       "      <th>25479</th>\n",
       "      <td>EZYV25480</td>\n",
       "      <td>Asia</td>\n",
       "      <td>Bachelor's</td>\n",
       "      <td>Y</td>\n",
       "      <td>N</td>\n",
       "      <td>3195</td>\n",
       "      <td>1960</td>\n",
       "      <td>Midwest</td>\n",
       "      <td>70876.9100</td>\n",
       "      <td>Year</td>\n",
       "      <td>Y</td>\n",
       "      <td>Certified</td>\n",
       "    </tr>\n",
       "  </tbody>\n",
       "</table>\n",
       "<p>25480 rows × 12 columns</p>\n",
       "</div>"
      ],
      "text/plain": [
       "         case_id continent education_of_employee has_job_experience  \\\n",
       "0         EZYV01      Asia           High School                  N   \n",
       "1         EZYV02      Asia              Master's                  Y   \n",
       "2         EZYV03      Asia            Bachelor's                  N   \n",
       "3         EZYV04      Asia            Bachelor's                  N   \n",
       "4         EZYV05    Africa              Master's                  Y   \n",
       "...          ...       ...                   ...                ...   \n",
       "25475  EZYV25476      Asia            Bachelor's                  Y   \n",
       "25476  EZYV25477      Asia           High School                  Y   \n",
       "25477  EZYV25478      Asia              Master's                  Y   \n",
       "25478  EZYV25479      Asia              Master's                  Y   \n",
       "25479  EZYV25480      Asia            Bachelor's                  Y   \n",
       "\n",
       "      requires_job_training  no_of_employees  yr_of_estab  \\\n",
       "0                         N            14513         2007   \n",
       "1                         N             2412         2002   \n",
       "2                         Y            44444         2008   \n",
       "3                         N               98         1897   \n",
       "4                         N             1082         2005   \n",
       "...                     ...              ...          ...   \n",
       "25475                     Y             2601         2008   \n",
       "25476                     N             3274         2006   \n",
       "25477                     N             1121         1910   \n",
       "25478                     Y             1918         1887   \n",
       "25479                     N             3195         1960   \n",
       "\n",
       "      region_of_employment  prevailing_wage unit_of_wage full_time_position  \\\n",
       "0                     West         592.2029         Hour                  Y   \n",
       "1                Northeast       83425.6500         Year                  Y   \n",
       "2                     West      122996.8600         Year                  Y   \n",
       "3                     West       83434.0300         Year                  Y   \n",
       "4                    South      149907.3900         Year                  Y   \n",
       "...                    ...              ...          ...                ...   \n",
       "25475                South       77092.5700         Year                  Y   \n",
       "25476            Northeast      279174.7900         Year                  Y   \n",
       "25477                South      146298.8500         Year                  N   \n",
       "25478                 West       86154.7700         Year                  Y   \n",
       "25479              Midwest       70876.9100         Year                  Y   \n",
       "\n",
       "      case_status  \n",
       "0          Denied  \n",
       "1       Certified  \n",
       "2          Denied  \n",
       "3          Denied  \n",
       "4       Certified  \n",
       "...           ...  \n",
       "25475   Certified  \n",
       "25476   Certified  \n",
       "25477   Certified  \n",
       "25478   Certified  \n",
       "25479   Certified  \n",
       "\n",
       "[25480 rows x 12 columns]"
      ]
     },
     "execution_count": 1,
     "metadata": {},
     "output_type": "execute_result"
    }
   ],
   "source": [
    "import pandas as pd\n",
    "import matplotlib.pyplot as plt\n",
    "import numpy as np\n",
    "import seaborn as sns\n",
    "\n",
    "path=r\"C:\\\\Users\\\\tanma\\\\DATASCIENCE\\\\string & list\\\\Visadataset.xlsx\"\n",
    "visa_df=pd.read_excel(path)\n",
    "visa_df"
   ]
  },
  {
   "cell_type": "code",
   "execution_count": null,
   "id": "e9c162bb",
   "metadata": {},
   "outputs": [],
   "source": [
    "visa_df.columns"
   ]
  },
  {
   "cell_type": "code",
   "execution_count": null,
   "id": "9d4725ca",
   "metadata": {},
   "outputs": [],
   "source": [
    "visa_df.select_dtypes(exclude='object').columns"
   ]
  },
  {
   "cell_type": "code",
   "execution_count": null,
   "id": "5ba1b3ca",
   "metadata": {},
   "outputs": [],
   "source": [
    "visa_df['prevailing_wage']"
   ]
  },
  {
   "cell_type": "code",
   "execution_count": null,
   "id": "aa8131de",
   "metadata": {},
   "outputs": [],
   "source": [
    "visa_df['no_of_employees']"
   ]
  },
  {
   "cell_type": "code",
   "execution_count": null,
   "id": "0f0c1f87",
   "metadata": {},
   "outputs": [],
   "source": [
    "visa_df['no_of_employees'].mean()"
   ]
  },
  {
   "cell_type": "code",
   "execution_count": null,
   "id": "18ec88be",
   "metadata": {},
   "outputs": [],
   "source": [
    "visa_df['prevailing_wage'].mean()"
   ]
  },
  {
   "cell_type": "code",
   "execution_count": null,
   "id": "7d618cd4",
   "metadata": {},
   "outputs": [],
   "source": [
    "visa_df['no_of_employees'].std()"
   ]
  },
  {
   "cell_type": "code",
   "execution_count": null,
   "id": "58c56772",
   "metadata": {},
   "outputs": [],
   "source": [
    "#dataframe make\n",
    "wage_count=round(visa_df['prevailing_wage'].count(),2)\n",
    "wage_max=round(visa_df['prevailing_wage'].max(),2)\n",
    "wage_min=round(visa_df['prevailing_wage'].min(),2)\n",
    "wage_mean=round(visa_df['prevailing_wage'].mean(),2)\n",
    "wage_median=round(visa_df['prevailing_wage'].median(),2)\n",
    "wage_std=round(visa_df['prevailing_wage'].std(),2)\n",
    "\n",
    "l=[wage_count,wage_max,wage_min,wage_mean,wage_median,wage_std]\n",
    "cols=['prevailing_wage']\n",
    "index=['count','max','min','median','std','mean']\n",
    "pd.DataFrame(l,columns=cols,index=index)\n"
   ]
  },
  {
   "cell_type": "code",
   "execution_count": null,
   "id": "f4dc671f",
   "metadata": {},
   "outputs": [],
   "source": [
    "np.percentile(visa_df['prevailing_wage'],50)"
   ]
  },
  {
   "cell_type": "code",
   "execution_count": null,
   "id": "4798dc9a",
   "metadata": {},
   "outputs": [],
   "source": [
    "visa_df.describe()"
   ]
  },
  {
   "cell_type": "code",
   "execution_count": null,
   "id": "378350e8",
   "metadata": {},
   "outputs": [],
   "source": [
    "path=r\"C:\\\\Users\\\\tanma\\\\DATASCIENCE\\\\string & list\\\\Visadataset.xlsx\"\n",
    "visa_df=pd.read_excel(path)\n",
    "visa_df\n"
   ]
  },
  {
   "cell_type": "markdown",
   "id": "79e7fc8a",
   "metadata": {},
   "source": [
    "$bar chart$"
   ]
  },
  {
   "cell_type": "code",
   "execution_count": null,
   "id": "f3c8ad64",
   "metadata": {},
   "outputs": [],
   "source": [
    "plt.figure(figsize=(10,6))\n",
    "sns.barplot(y='no_of_employees',x='yr_of_estab',\n",
    "       data=visa_df)\n",
    "plt.xlabel('year_of_estab')\n",
    "plt.ylabel('no_of_employees')\n",
    "plt.title(\"bar chart\")\n",
    "plt.savefig('continent_bar.jpg')\n",
    "plt.show()\n"
   ]
  },
  {
   "cell_type": "code",
   "execution_count": null,
   "id": "10f46923",
   "metadata": {},
   "outputs": [],
   "source": []
  },
  {
   "cell_type": "code",
   "execution_count": 2,
   "id": "481d1880",
   "metadata": {},
   "outputs": [
    {
     "data": {
      "text/plain": [
       "Index(['case_id', 'continent', 'education_of_employee', 'has_job_experience',\n",
       "       'requires_job_training', 'no_of_employees', 'yr_of_estab',\n",
       "       'region_of_employment', 'prevailing_wage', 'unit_of_wage',\n",
       "       'full_time_position', 'case_status'],\n",
       "      dtype='object')"
      ]
     },
     "execution_count": 2,
     "metadata": {},
     "output_type": "execute_result"
    }
   ],
   "source": [
    "visa_df.columns\n"
   ]
  },
  {
   "cell_type": "code",
   "execution_count": 6,
   "id": "f0987f1a",
   "metadata": {},
   "outputs": [
    {
     "name": "stdout",
     "output_type": "stream",
     "text": [
      "[[25480, 602069, -26, 5667.04, 2109.0, 22877.93, 1022.0, 2109.0, 3504.0]]\n",
      "[[25480, 602069, -26, 5667.04, 2109.0, 22877.93, 1022.0, 2109.0, 3504.0], [25480, 2016, 1800, 1979.41, 1997.0, 42.37, 1976.0, 1997.0, 2005.0]]\n",
      "[[25480, 602069, -26, 5667.04, 2109.0, 22877.93, 1022.0, 2109.0, 3504.0], [25480, 2016, 1800, 1979.41, 1997.0, 42.37, 1976.0, 1997.0, 2005.0], [25480, 319210.27, 2.14, 74455.81, 70308.21, 52815.94, 34015.479999999996, 70308.20999999999, 107735.51250000001]]\n"
     ]
    },
    {
     "data": {
      "text/html": [
       "<div>\n",
       "<style scoped>\n",
       "    .dataframe tbody tr th:only-of-type {\n",
       "        vertical-align: middle;\n",
       "    }\n",
       "\n",
       "    .dataframe tbody tr th {\n",
       "        vertical-align: top;\n",
       "    }\n",
       "\n",
       "    .dataframe thead th {\n",
       "        text-align: right;\n",
       "    }\n",
       "</style>\n",
       "<table border=\"1\" class=\"dataframe\">\n",
       "  <thead>\n",
       "    <tr style=\"text-align: right;\">\n",
       "      <th></th>\n",
       "      <th>no_of_employees</th>\n",
       "      <th>yr_of_estab</th>\n",
       "      <th>prevailing_wage</th>\n",
       "    </tr>\n",
       "  </thead>\n",
       "  <tbody>\n",
       "    <tr>\n",
       "      <th>count</th>\n",
       "      <td>25480.00</td>\n",
       "      <td>25480.00</td>\n",
       "      <td>25480.0000</td>\n",
       "    </tr>\n",
       "    <tr>\n",
       "      <th>max</th>\n",
       "      <td>602069.00</td>\n",
       "      <td>2016.00</td>\n",
       "      <td>319210.2700</td>\n",
       "    </tr>\n",
       "    <tr>\n",
       "      <th>min</th>\n",
       "      <td>-26.00</td>\n",
       "      <td>1800.00</td>\n",
       "      <td>2.1400</td>\n",
       "    </tr>\n",
       "    <tr>\n",
       "      <th>mean</th>\n",
       "      <td>5667.04</td>\n",
       "      <td>1979.41</td>\n",
       "      <td>74455.8100</td>\n",
       "    </tr>\n",
       "    <tr>\n",
       "      <th>median</th>\n",
       "      <td>2109.00</td>\n",
       "      <td>1997.00</td>\n",
       "      <td>70308.2100</td>\n",
       "    </tr>\n",
       "    <tr>\n",
       "      <th>std</th>\n",
       "      <td>22877.93</td>\n",
       "      <td>42.37</td>\n",
       "      <td>52815.9400</td>\n",
       "    </tr>\n",
       "    <tr>\n",
       "      <th>25%</th>\n",
       "      <td>1022.00</td>\n",
       "      <td>1976.00</td>\n",
       "      <td>34015.4800</td>\n",
       "    </tr>\n",
       "    <tr>\n",
       "      <th>50%</th>\n",
       "      <td>2109.00</td>\n",
       "      <td>1997.00</td>\n",
       "      <td>70308.2100</td>\n",
       "    </tr>\n",
       "    <tr>\n",
       "      <th>75%</th>\n",
       "      <td>3504.00</td>\n",
       "      <td>2005.00</td>\n",
       "      <td>107735.5125</td>\n",
       "    </tr>\n",
       "  </tbody>\n",
       "</table>\n",
       "</div>"
      ],
      "text/plain": [
       "        no_of_employees  yr_of_estab  prevailing_wage\n",
       "count          25480.00     25480.00       25480.0000\n",
       "max           602069.00      2016.00      319210.2700\n",
       "min              -26.00      1800.00           2.1400\n",
       "mean            5667.04      1979.41       74455.8100\n",
       "median          2109.00      1997.00       70308.2100\n",
       "std            22877.93        42.37       52815.9400\n",
       "25%             1022.00      1976.00       34015.4800\n",
       "50%             2109.00      1997.00       70308.2100\n",
       "75%             3504.00      2005.00      107735.5125"
      ]
     },
     "execution_count": 6,
     "metadata": {},
     "output_type": "execute_result"
    }
   ],
   "source": [
    "cols=visa_df.select_dtypes(exclude='object').columns\n",
    "l=[]\n",
    "for i in cols:\n",
    "    count=round(visa_df[i].count(),2)\n",
    "    maxx=round(visa_df[i].max(),2)\n",
    "    minn=round(visa_df[i].min(),2)\n",
    "    mean=round(visa_df[i].mean(),2)\n",
    "    median=round(visa_df[i].median(),2)\n",
    "    std=round(visa_df[i].std(),2)\n",
    "    p_25=np.percentile(visa_df[i],25)\n",
    "    p_50=np.percentile(visa_df[i],50)\n",
    "    p_75=np.percentile(visa_df[i],75)\n",
    "    l.append([count,maxx,minn,mean,median,std,\n",
    "    p_25,p_50,p_75])\n",
    "    print(l)\n",
    "    index=['count','max','min',\n",
    "    'mean','median','std',\n",
    "    '25%','50%','75%']\n",
    "pd.DataFrame(zip(l[0],l[1],l[2]),columns=cols,index=index)"
   ]
  },
  {
   "cell_type": "code",
   "execution_count": null,
   "id": "4da8f0ec",
   "metadata": {},
   "outputs": [],
   "source": [
    "f ,i, n=plt.hist(visa_df['prevailing_wage'],bins=30)"
   ]
  },
  {
   "cell_type": "code",
   "execution_count": 7,
   "id": "0160d78b",
   "metadata": {},
   "outputs": [
    {
     "data": {
      "text/html": [
       "<div>\n",
       "<style scoped>\n",
       "    .dataframe tbody tr th:only-of-type {\n",
       "        vertical-align: middle;\n",
       "    }\n",
       "\n",
       "    .dataframe tbody tr th {\n",
       "        vertical-align: top;\n",
       "    }\n",
       "\n",
       "    .dataframe thead th {\n",
       "        text-align: right;\n",
       "    }\n",
       "</style>\n",
       "<table border=\"1\" class=\"dataframe\">\n",
       "  <thead>\n",
       "    <tr style=\"text-align: right;\">\n",
       "      <th></th>\n",
       "      <th>Certified</th>\n",
       "      <th>Denied</th>\n",
       "    </tr>\n",
       "    <tr>\n",
       "      <th>Continent</th>\n",
       "      <th></th>\n",
       "      <th></th>\n",
       "    </tr>\n",
       "  </thead>\n",
       "  <tbody>\n",
       "    <tr>\n",
       "      <th>Asia</th>\n",
       "      <td>11012</td>\n",
       "      <td>5849</td>\n",
       "    </tr>\n",
       "    <tr>\n",
       "      <th>Africa</th>\n",
       "      <td>397</td>\n",
       "      <td>154</td>\n",
       "    </tr>\n",
       "    <tr>\n",
       "      <th>North America</th>\n",
       "      <td>2037</td>\n",
       "      <td>1255</td>\n",
       "    </tr>\n",
       "    <tr>\n",
       "      <th>Europe</th>\n",
       "      <td>2957</td>\n",
       "      <td>775</td>\n",
       "    </tr>\n",
       "    <tr>\n",
       "      <th>South America</th>\n",
       "      <td>493</td>\n",
       "      <td>359</td>\n",
       "    </tr>\n",
       "    <tr>\n",
       "      <th>Oceania</th>\n",
       "      <td>122</td>\n",
       "      <td>70</td>\n",
       "    </tr>\n",
       "  </tbody>\n",
       "</table>\n",
       "</div>"
      ],
      "text/plain": [
       "               Certified  Denied\n",
       "Continent                       \n",
       "Asia               11012    5849\n",
       "Africa               397     154\n",
       "North America       2037    1255\n",
       "Europe              2957     775\n",
       "South America        493     359\n",
       "Oceania              122      70"
      ]
     },
     "execution_count": 7,
     "metadata": {},
     "output_type": "execute_result"
    }
   ],
   "source": [
    "# step-1: make unique lables\n",
    "labels=visa_df['continent'].unique()\n",
    "# step-2: create empty two lists\n",
    "certified_count=[]\n",
    "denied_count=[]\n",
    "# step-3: iterate through loop\n",
    "for i in labels:\n",
    "    c1=visa_df['continent']==i\n",
    "    c2=visa_df['case_status']=='Certified'\n",
    "    c3=visa_df['case_status']=='Denied'\n",
    "    cert_con=c1&c2\n",
    "    den_con=c1&c3\n",
    "    certified_count.append(len(visa_df[cert_con]))\n",
    "    denied_count.append(len(visa_df[den_con]))\n",
    "cols=['Continent','Certified','Denied']\n",
    "d1=pd.DataFrame(zip(labels,\n",
    "                    certified_count,\n",
    "                    denied_count), columns=cols)\n",
    "d1.set_index('Continent')"
   ]
  },
  {
   "cell_type": "code",
   "execution_count": null,
   "id": "4485631c",
   "metadata": {},
   "outputs": [],
   "source": []
  },
  {
   "cell_type": "code",
   "execution_count": null,
   "id": "cce4f53d",
   "metadata": {},
   "outputs": [],
   "source": []
  },
  {
   "cell_type": "code",
   "execution_count": null,
   "id": "2545f502",
   "metadata": {},
   "outputs": [],
   "source": []
  }
 ],
 "metadata": {
  "kernelspec": {
   "display_name": "Python 3 (ipykernel)",
   "language": "python",
   "name": "python3"
  },
  "language_info": {
   "codemirror_mode": {
    "name": "ipython",
    "version": 3
   },
   "file_extension": ".py",
   "mimetype": "text/x-python",
   "name": "python",
   "nbconvert_exporter": "python",
   "pygments_lexer": "ipython3",
   "version": "3.11.5"
  }
 },
 "nbformat": 4,
 "nbformat_minor": 5
}
